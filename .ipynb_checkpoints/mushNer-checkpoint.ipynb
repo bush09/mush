{
 "cells": [
  {
   "cell_type": "code",
   "execution_count": 1,
   "metadata": {},
   "outputs": [],
   "source": [
    "import pandas as pd\n",
    "import numpy as np"
   ]
  },
  {
   "cell_type": "code",
   "execution_count": 2,
   "metadata": {},
   "outputs": [],
   "source": [
    "data_pandas = pd.read_csv(\"mushrooms.csv\")"
   ]
  },
  {
   "cell_type": "code",
   "execution_count": 3,
   "metadata": {},
   "outputs": [
    {
     "data": {
      "text/html": [
       "<div>\n",
       "<style scoped>\n",
       "    .dataframe tbody tr th:only-of-type {\n",
       "        vertical-align: middle;\n",
       "    }\n",
       "\n",
       "    .dataframe tbody tr th {\n",
       "        vertical-align: top;\n",
       "    }\n",
       "\n",
       "    .dataframe thead th {\n",
       "        text-align: right;\n",
       "    }\n",
       "</style>\n",
       "<table border=\"1\" class=\"dataframe\">\n",
       "  <thead>\n",
       "    <tr style=\"text-align: right;\">\n",
       "      <th></th>\n",
       "      <th>class</th>\n",
       "      <th>cap-shape</th>\n",
       "      <th>cap-surface</th>\n",
       "      <th>cap-color</th>\n",
       "      <th>bruises</th>\n",
       "      <th>odor</th>\n",
       "      <th>gill-attachment</th>\n",
       "      <th>gill-spacing</th>\n",
       "      <th>gill-size</th>\n",
       "      <th>gill-color</th>\n",
       "      <th>...</th>\n",
       "      <th>stalk-surface-below-ring</th>\n",
       "      <th>stalk-color-above-ring</th>\n",
       "      <th>stalk-color-below-ring</th>\n",
       "      <th>veil-type</th>\n",
       "      <th>veil-color</th>\n",
       "      <th>ring-number</th>\n",
       "      <th>ring-type</th>\n",
       "      <th>spore-print-color</th>\n",
       "      <th>population</th>\n",
       "      <th>habitat</th>\n",
       "    </tr>\n",
       "  </thead>\n",
       "  <tbody>\n",
       "    <tr>\n",
       "      <th>0</th>\n",
       "      <td>p</td>\n",
       "      <td>x</td>\n",
       "      <td>s</td>\n",
       "      <td>n</td>\n",
       "      <td>t</td>\n",
       "      <td>p</td>\n",
       "      <td>f</td>\n",
       "      <td>c</td>\n",
       "      <td>n</td>\n",
       "      <td>k</td>\n",
       "      <td>...</td>\n",
       "      <td>s</td>\n",
       "      <td>w</td>\n",
       "      <td>w</td>\n",
       "      <td>p</td>\n",
       "      <td>w</td>\n",
       "      <td>o</td>\n",
       "      <td>p</td>\n",
       "      <td>k</td>\n",
       "      <td>s</td>\n",
       "      <td>u</td>\n",
       "    </tr>\n",
       "    <tr>\n",
       "      <th>1</th>\n",
       "      <td>e</td>\n",
       "      <td>x</td>\n",
       "      <td>s</td>\n",
       "      <td>y</td>\n",
       "      <td>t</td>\n",
       "      <td>a</td>\n",
       "      <td>f</td>\n",
       "      <td>c</td>\n",
       "      <td>b</td>\n",
       "      <td>k</td>\n",
       "      <td>...</td>\n",
       "      <td>s</td>\n",
       "      <td>w</td>\n",
       "      <td>w</td>\n",
       "      <td>p</td>\n",
       "      <td>w</td>\n",
       "      <td>o</td>\n",
       "      <td>p</td>\n",
       "      <td>n</td>\n",
       "      <td>n</td>\n",
       "      <td>g</td>\n",
       "    </tr>\n",
       "    <tr>\n",
       "      <th>2</th>\n",
       "      <td>e</td>\n",
       "      <td>b</td>\n",
       "      <td>s</td>\n",
       "      <td>w</td>\n",
       "      <td>t</td>\n",
       "      <td>l</td>\n",
       "      <td>f</td>\n",
       "      <td>c</td>\n",
       "      <td>b</td>\n",
       "      <td>n</td>\n",
       "      <td>...</td>\n",
       "      <td>s</td>\n",
       "      <td>w</td>\n",
       "      <td>w</td>\n",
       "      <td>p</td>\n",
       "      <td>w</td>\n",
       "      <td>o</td>\n",
       "      <td>p</td>\n",
       "      <td>n</td>\n",
       "      <td>n</td>\n",
       "      <td>m</td>\n",
       "    </tr>\n",
       "    <tr>\n",
       "      <th>3</th>\n",
       "      <td>p</td>\n",
       "      <td>x</td>\n",
       "      <td>y</td>\n",
       "      <td>w</td>\n",
       "      <td>t</td>\n",
       "      <td>p</td>\n",
       "      <td>f</td>\n",
       "      <td>c</td>\n",
       "      <td>n</td>\n",
       "      <td>n</td>\n",
       "      <td>...</td>\n",
       "      <td>s</td>\n",
       "      <td>w</td>\n",
       "      <td>w</td>\n",
       "      <td>p</td>\n",
       "      <td>w</td>\n",
       "      <td>o</td>\n",
       "      <td>p</td>\n",
       "      <td>k</td>\n",
       "      <td>s</td>\n",
       "      <td>u</td>\n",
       "    </tr>\n",
       "    <tr>\n",
       "      <th>4</th>\n",
       "      <td>e</td>\n",
       "      <td>x</td>\n",
       "      <td>s</td>\n",
       "      <td>g</td>\n",
       "      <td>f</td>\n",
       "      <td>n</td>\n",
       "      <td>f</td>\n",
       "      <td>w</td>\n",
       "      <td>b</td>\n",
       "      <td>k</td>\n",
       "      <td>...</td>\n",
       "      <td>s</td>\n",
       "      <td>w</td>\n",
       "      <td>w</td>\n",
       "      <td>p</td>\n",
       "      <td>w</td>\n",
       "      <td>o</td>\n",
       "      <td>e</td>\n",
       "      <td>n</td>\n",
       "      <td>a</td>\n",
       "      <td>g</td>\n",
       "    </tr>\n",
       "    <tr>\n",
       "      <th>5</th>\n",
       "      <td>e</td>\n",
       "      <td>x</td>\n",
       "      <td>y</td>\n",
       "      <td>y</td>\n",
       "      <td>t</td>\n",
       "      <td>a</td>\n",
       "      <td>f</td>\n",
       "      <td>c</td>\n",
       "      <td>b</td>\n",
       "      <td>n</td>\n",
       "      <td>...</td>\n",
       "      <td>s</td>\n",
       "      <td>w</td>\n",
       "      <td>w</td>\n",
       "      <td>p</td>\n",
       "      <td>w</td>\n",
       "      <td>o</td>\n",
       "      <td>p</td>\n",
       "      <td>k</td>\n",
       "      <td>n</td>\n",
       "      <td>g</td>\n",
       "    </tr>\n",
       "    <tr>\n",
       "      <th>6</th>\n",
       "      <td>e</td>\n",
       "      <td>b</td>\n",
       "      <td>s</td>\n",
       "      <td>w</td>\n",
       "      <td>t</td>\n",
       "      <td>a</td>\n",
       "      <td>f</td>\n",
       "      <td>c</td>\n",
       "      <td>b</td>\n",
       "      <td>g</td>\n",
       "      <td>...</td>\n",
       "      <td>s</td>\n",
       "      <td>w</td>\n",
       "      <td>w</td>\n",
       "      <td>p</td>\n",
       "      <td>w</td>\n",
       "      <td>o</td>\n",
       "      <td>p</td>\n",
       "      <td>k</td>\n",
       "      <td>n</td>\n",
       "      <td>m</td>\n",
       "    </tr>\n",
       "    <tr>\n",
       "      <th>7</th>\n",
       "      <td>e</td>\n",
       "      <td>b</td>\n",
       "      <td>y</td>\n",
       "      <td>w</td>\n",
       "      <td>t</td>\n",
       "      <td>l</td>\n",
       "      <td>f</td>\n",
       "      <td>c</td>\n",
       "      <td>b</td>\n",
       "      <td>n</td>\n",
       "      <td>...</td>\n",
       "      <td>s</td>\n",
       "      <td>w</td>\n",
       "      <td>w</td>\n",
       "      <td>p</td>\n",
       "      <td>w</td>\n",
       "      <td>o</td>\n",
       "      <td>p</td>\n",
       "      <td>n</td>\n",
       "      <td>s</td>\n",
       "      <td>m</td>\n",
       "    </tr>\n",
       "    <tr>\n",
       "      <th>8</th>\n",
       "      <td>p</td>\n",
       "      <td>x</td>\n",
       "      <td>y</td>\n",
       "      <td>w</td>\n",
       "      <td>t</td>\n",
       "      <td>p</td>\n",
       "      <td>f</td>\n",
       "      <td>c</td>\n",
       "      <td>n</td>\n",
       "      <td>p</td>\n",
       "      <td>...</td>\n",
       "      <td>s</td>\n",
       "      <td>w</td>\n",
       "      <td>w</td>\n",
       "      <td>p</td>\n",
       "      <td>w</td>\n",
       "      <td>o</td>\n",
       "      <td>p</td>\n",
       "      <td>k</td>\n",
       "      <td>v</td>\n",
       "      <td>g</td>\n",
       "    </tr>\n",
       "    <tr>\n",
       "      <th>9</th>\n",
       "      <td>e</td>\n",
       "      <td>b</td>\n",
       "      <td>s</td>\n",
       "      <td>y</td>\n",
       "      <td>t</td>\n",
       "      <td>a</td>\n",
       "      <td>f</td>\n",
       "      <td>c</td>\n",
       "      <td>b</td>\n",
       "      <td>g</td>\n",
       "      <td>...</td>\n",
       "      <td>s</td>\n",
       "      <td>w</td>\n",
       "      <td>w</td>\n",
       "      <td>p</td>\n",
       "      <td>w</td>\n",
       "      <td>o</td>\n",
       "      <td>p</td>\n",
       "      <td>k</td>\n",
       "      <td>s</td>\n",
       "      <td>m</td>\n",
       "    </tr>\n",
       "  </tbody>\n",
       "</table>\n",
       "<p>10 rows × 23 columns</p>\n",
       "</div>"
      ],
      "text/plain": [
       "  class cap-shape cap-surface cap-color bruises odor gill-attachment  \\\n",
       "0     p         x           s         n       t    p               f   \n",
       "1     e         x           s         y       t    a               f   \n",
       "2     e         b           s         w       t    l               f   \n",
       "3     p         x           y         w       t    p               f   \n",
       "4     e         x           s         g       f    n               f   \n",
       "5     e         x           y         y       t    a               f   \n",
       "6     e         b           s         w       t    a               f   \n",
       "7     e         b           y         w       t    l               f   \n",
       "8     p         x           y         w       t    p               f   \n",
       "9     e         b           s         y       t    a               f   \n",
       "\n",
       "  gill-spacing gill-size gill-color  ... stalk-surface-below-ring  \\\n",
       "0            c         n          k  ...                        s   \n",
       "1            c         b          k  ...                        s   \n",
       "2            c         b          n  ...                        s   \n",
       "3            c         n          n  ...                        s   \n",
       "4            w         b          k  ...                        s   \n",
       "5            c         b          n  ...                        s   \n",
       "6            c         b          g  ...                        s   \n",
       "7            c         b          n  ...                        s   \n",
       "8            c         n          p  ...                        s   \n",
       "9            c         b          g  ...                        s   \n",
       "\n",
       "  stalk-color-above-ring stalk-color-below-ring veil-type veil-color  \\\n",
       "0                      w                      w         p          w   \n",
       "1                      w                      w         p          w   \n",
       "2                      w                      w         p          w   \n",
       "3                      w                      w         p          w   \n",
       "4                      w                      w         p          w   \n",
       "5                      w                      w         p          w   \n",
       "6                      w                      w         p          w   \n",
       "7                      w                      w         p          w   \n",
       "8                      w                      w         p          w   \n",
       "9                      w                      w         p          w   \n",
       "\n",
       "  ring-number ring-type spore-print-color population habitat  \n",
       "0           o         p                 k          s       u  \n",
       "1           o         p                 n          n       g  \n",
       "2           o         p                 n          n       m  \n",
       "3           o         p                 k          s       u  \n",
       "4           o         e                 n          a       g  \n",
       "5           o         p                 k          n       g  \n",
       "6           o         p                 k          n       m  \n",
       "7           o         p                 n          s       m  \n",
       "8           o         p                 k          v       g  \n",
       "9           o         p                 k          s       m  \n",
       "\n",
       "[10 rows x 23 columns]"
      ]
     },
     "execution_count": 3,
     "metadata": {},
     "output_type": "execute_result"
    }
   ],
   "source": [
    "data_pandas.head(10)"
   ]
  },
  {
   "cell_type": "code",
   "execution_count": 4,
   "metadata": {},
   "outputs": [
    {
     "data": {
      "text/plain": [
       "array(['p', 'e'], dtype=object)"
      ]
     },
     "execution_count": 4,
     "metadata": {},
     "output_type": "execute_result"
    }
   ],
   "source": [
    "data_pandas[\"class\"].unique()"
   ]
  },
  {
   "cell_type": "code",
   "execution_count": 5,
   "metadata": {},
   "outputs": [],
   "source": [
    "keys = data_pandas.keys()"
   ]
  },
  {
   "cell_type": "code",
   "execution_count": 6,
   "metadata": {},
   "outputs": [
    {
     "data": {
      "text/plain": [
       "Index(['class', 'cap-shape', 'cap-surface', 'cap-color', 'bruises', 'odor',\n",
       "       'gill-attachment', 'gill-spacing', 'gill-size', 'gill-color',\n",
       "       'stalk-shape', 'stalk-root', 'stalk-surface-above-ring',\n",
       "       'stalk-surface-below-ring', 'stalk-color-above-ring',\n",
       "       'stalk-color-below-ring', 'veil-type', 'veil-color', 'ring-number',\n",
       "       'ring-type', 'spore-print-color', 'population', 'habitat'],\n",
       "      dtype='object')"
      ]
     },
     "execution_count": 6,
     "metadata": {},
     "output_type": "execute_result"
    }
   ],
   "source": [
    "keys"
   ]
  },
  {
   "cell_type": "code",
   "execution_count": 7,
   "metadata": {},
   "outputs": [],
   "source": [
    "num_features = len(keys)"
   ]
  },
  {
   "cell_type": "code",
   "execution_count": 8,
   "metadata": {},
   "outputs": [],
   "source": [
    "num_str = data_pandas.size // num_features"
   ]
  },
  {
   "cell_type": "code",
   "execution_count": 9,
   "metadata": {},
   "outputs": [
    {
     "data": {
      "text/plain": [
       "8124"
      ]
     },
     "execution_count": 9,
     "metadata": {},
     "output_type": "execute_result"
    }
   ],
   "source": [
    "num_str"
   ]
  },
  {
   "cell_type": "code",
   "execution_count": 10,
   "metadata": {},
   "outputs": [],
   "source": [
    "data_numpy = np.array([[0 for i in range(num_features)] for j in range(num_str)])"
   ]
  },
  {
   "cell_type": "code",
   "execution_count": 11,
   "metadata": {},
   "outputs": [
    {
     "data": {
      "text/plain": [
       "array([[0, 0, 0, ..., 0, 0, 0],\n",
       "       [0, 0, 0, ..., 0, 0, 0],\n",
       "       [0, 0, 0, ..., 0, 0, 0],\n",
       "       ...,\n",
       "       [0, 0, 0, ..., 0, 0, 0],\n",
       "       [0, 0, 0, ..., 0, 0, 0],\n",
       "       [0, 0, 0, ..., 0, 0, 0]])"
      ]
     },
     "execution_count": 11,
     "metadata": {},
     "output_type": "execute_result"
    }
   ],
   "source": [
    "data_numpy"
   ]
  },
  {
   "cell_type": "code",
   "execution_count": 12,
   "metadata": {},
   "outputs": [
    {
     "data": {
      "text/plain": [
       "(8124, 23)"
      ]
     },
     "execution_count": 12,
     "metadata": {},
     "output_type": "execute_result"
    }
   ],
   "source": [
    "data_numpy.shape"
   ]
  },
  {
   "cell_type": "code",
   "execution_count": 13,
   "metadata": {},
   "outputs": [],
   "source": [
    "letters_to_nums = []\n",
    "nums_to_letters = []\n",
    "for i in keys:\n",
    "    dic1 = {}\n",
    "    dic2 = {}\n",
    "    iterat = 0\n",
    "    #print(i)\n",
    "    for j in data_pandas[i].unique():\n",
    "        dic1[j] = iterat\n",
    "        dic2[iterat] = j\n",
    "        iterat += 1\n",
    "    letters_to_nums.append(dic1)\n",
    "    nums_to_letters.append(dic2)"
   ]
  },
  {
   "cell_type": "code",
   "execution_count": 14,
   "metadata": {},
   "outputs": [
    {
     "data": {
      "text/plain": [
       "[{'p': 0, 'e': 1},\n",
       " {'x': 0, 'b': 1, 's': 2, 'f': 3, 'k': 4, 'c': 5},\n",
       " {'s': 0, 'y': 1, 'f': 2, 'g': 3}]"
      ]
     },
     "execution_count": 14,
     "metadata": {},
     "output_type": "execute_result"
    }
   ],
   "source": [
    "letters_to_nums[0:3]\n",
    "    "
   ]
  },
  {
   "cell_type": "code",
   "execution_count": 15,
   "metadata": {},
   "outputs": [
    {
     "data": {
      "text/plain": [
       "[{0: 'p', 1: 'e'},\n",
       " {0: 'x', 1: 'b', 2: 's', 3: 'f', 4: 'k', 5: 'c'},\n",
       " {0: 's', 1: 'y', 2: 'f', 3: 'g'}]"
      ]
     },
     "execution_count": 15,
     "metadata": {},
     "output_type": "execute_result"
    }
   ],
   "source": [
    "nums_to_letters[0:3]"
   ]
  },
  {
   "cell_type": "code",
   "execution_count": 16,
   "metadata": {},
   "outputs": [],
   "source": [
    "for i in range(num_str):\n",
    "    for j in range(num_features):\n",
    "        #print(data_pandas.iloc(0)[j,i])\n",
    "        data_numpy[i,j] = letters_to_nums[j][data_pandas.iloc(0)[i, j]]"
   ]
  },
  {
   "cell_type": "code",
   "execution_count": 17,
   "metadata": {},
   "outputs": [
    {
     "data": {
      "text/plain": [
       "array([[0, 0, 0, ..., 0, 0, 0],\n",
       "       [1, 0, 0, ..., 1, 1, 1],\n",
       "       [1, 1, 0, ..., 1, 1, 2],\n",
       "       ...,\n",
       "       [1, 3, 0, ..., 8, 5, 6],\n",
       "       [0, 4, 1, ..., 4, 3, 6],\n",
       "       [1, 0, 0, ..., 6, 5, 6]])"
      ]
     },
     "execution_count": 17,
     "metadata": {},
     "output_type": "execute_result"
    }
   ],
   "source": [
    "data_numpy"
   ]
  },
  {
   "cell_type": "code",
   "execution_count": 18,
   "metadata": {},
   "outputs": [],
   "source": [
    "Y = np.array(data_numpy[:,0])"
   ]
  },
  {
   "cell_type": "code",
   "execution_count": 19,
   "metadata": {},
   "outputs": [
    {
     "data": {
      "text/plain": [
       "array([0, 1, 1, ..., 1, 0, 1])"
      ]
     },
     "execution_count": 19,
     "metadata": {},
     "output_type": "execute_result"
    }
   ],
   "source": [
    "Y"
   ]
  },
  {
   "cell_type": "code",
   "execution_count": 20,
   "metadata": {},
   "outputs": [],
   "source": [
    "data_numpy = np.delete(data_numpy, 0, axis=1)"
   ]
  },
  {
   "cell_type": "code",
   "execution_count": 21,
   "metadata": {},
   "outputs": [
    {
     "data": {
      "text/plain": [
       "array([[0, 0, 0, ..., 0, 0, 0],\n",
       "       [0, 0, 1, ..., 1, 1, 1],\n",
       "       [1, 0, 2, ..., 1, 1, 2],\n",
       "       ...,\n",
       "       [3, 0, 0, ..., 8, 5, 6],\n",
       "       [4, 1, 0, ..., 4, 3, 6],\n",
       "       [0, 0, 0, ..., 6, 5, 6]])"
      ]
     },
     "execution_count": 21,
     "metadata": {},
     "output_type": "execute_result"
    }
   ],
   "source": [
    "data_numpy"
   ]
  },
  {
   "cell_type": "code",
   "execution_count": 131,
   "metadata": {},
   "outputs": [
    {
     "data": {
      "text/plain": [
       "(8124, 22)"
      ]
     },
     "execution_count": 131,
     "metadata": {},
     "output_type": "execute_result"
    }
   ],
   "source": [
    "data_numpy.shape"
   ]
  },
  {
   "cell_type": "code",
   "execution_count": 132,
   "metadata": {},
   "outputs": [],
   "source": [
    "from keras.models import Sequential\n",
    "#нейронная сеть, слои которой соединены друг с другом\n",
    "\n",
    "from keras.layers import Dense\n",
    "#тип слоев, когда нейроны предыдущего уровня соединяются со всеми нейронами следующего уровня\n",
    "\n",
    "from keras.utils import np_utils\n",
    "#утилиты для numpy\n",
    "\n",
    "import tensorflow as tf\n",
    "import keras\n",
    "from sklearn.model_selection import train_test_split"
   ]
  },
  {
   "cell_type": "code",
   "execution_count": 133,
   "metadata": {},
   "outputs": [
    {
     "name": "stdout",
     "output_type": "stream",
     "text": [
      "23\n"
     ]
    }
   ],
   "source": [
    "print(len(keys))"
   ]
  },
  {
   "cell_type": "code",
   "execution_count": 134,
   "metadata": {},
   "outputs": [],
   "source": [
    "X_train, X_test, y_train, y_test = train_test_split(data_numpy, Y, test_size=0.3)"
   ]
  },
  {
   "cell_type": "code",
   "execution_count": 135,
   "metadata": {},
   "outputs": [
    {
     "data": {
      "text/plain": [
       "array([0, 1, 0, ..., 1, 0, 0])"
      ]
     },
     "execution_count": 135,
     "metadata": {},
     "output_type": "execute_result"
    }
   ],
   "source": [
    "y_train "
   ]
  },
  {
   "cell_type": "code",
   "execution_count": null,
   "metadata": {},
   "outputs": [],
   "source": []
  },
  {
   "cell_type": "code",
   "execution_count": 136,
   "metadata": {},
   "outputs": [],
   "source": [
    "np.random.seed(42)"
   ]
  },
  {
   "cell_type": "code",
   "execution_count": 137,
   "metadata": {},
   "outputs": [],
   "source": [
    "#clf = KNeighborsClassifier(n_neighbors=5, algorithm='brute')"
   ]
  },
  {
   "cell_type": "code",
   "execution_count": 138,
   "metadata": {},
   "outputs": [],
   "source": [
    "\n",
    "#%time clf.fit(X_train, y_train)"
   ]
  },
  {
   "cell_type": "code",
   "execution_count": 139,
   "metadata": {},
   "outputs": [],
   "source": [
    "#%time res = clf.predict(X_test)\n",
    "#res"
   ]
  },
  {
   "cell_type": "code",
   "execution_count": 140,
   "metadata": {},
   "outputs": [],
   "source": [
    "#clf.score(X_test, y_test)"
   ]
  },
  {
   "cell_type": "code",
   "execution_count": 173,
   "metadata": {},
   "outputs": [],
   "source": [
    "model = Sequential()\n"
   ]
  },
  {
   "cell_type": "code",
   "execution_count": 174,
   "metadata": {},
   "outputs": [
    {
     "name": "stderr",
     "output_type": "stream",
     "text": [
      "/home/natalya/anaconda3/lib/python3.6/site-packages/ipykernel_launcher.py:1: UserWarning: Update your `Dense` call to the Keras 2 API: `Dense(800, input_dim=22, activation=\"relu\", kernel_initializer=\"normal\")`\n",
      "  \"\"\"Entry point for launching an IPython kernel.\n"
     ]
    }
   ],
   "source": [
    "model.add(Dense(800, input_dim = 22, init = \"normal\", activation = \"relu\"))\n"
   ]
  },
  {
   "cell_type": "code",
   "execution_count": 175,
   "metadata": {},
   "outputs": [
    {
     "name": "stderr",
     "output_type": "stream",
     "text": [
      "/home/natalya/anaconda3/lib/python3.6/site-packages/ipykernel_launcher.py:1: UserWarning: Update your `Dense` call to the Keras 2 API: `Dense(800, input_dim=22, activation=\"relu\", kernel_initializer=\"normal\")`\n",
      "  \"\"\"Entry point for launching an IPython kernel.\n"
     ]
    }
   ],
   "source": [
    "model.add(Dense(800, input_dim = 22, init = \"normal\", activation = \"relu\"))\n"
   ]
  },
  {
   "cell_type": "code",
   "execution_count": 176,
   "metadata": {},
   "outputs": [
    {
     "name": "stderr",
     "output_type": "stream",
     "text": [
      "/home/natalya/anaconda3/lib/python3.6/site-packages/ipykernel_launcher.py:1: UserWarning: Update your `Dense` call to the Keras 2 API: `Dense(2, activation=\"softmax\", kernel_initializer=\"normal\")`\n",
      "  \"\"\"Entry point for launching an IPython kernel.\n"
     ]
    }
   ],
   "source": [
    "model.add(Dense(2, init=\"normal\", activation=\"softmax\"))\n"
   ]
  },
  {
   "cell_type": "code",
   "execution_count": 177,
   "metadata": {},
   "outputs": [],
   "source": [
    "model.compile(loss=\"sparse_categorical_crossentropy\", optimizer=\"SGD\", metrics=[\"accuracy\"])\n"
   ]
  },
  {
   "cell_type": "code",
   "execution_count": 178,
   "metadata": {},
   "outputs": [
    {
     "name": "stdout",
     "output_type": "stream",
     "text": [
      "_________________________________________________________________\n",
      "Layer (type)                 Output Shape              Param #   \n",
      "=================================================================\n",
      "dense_26 (Dense)             (None, 800)               18400     \n",
      "_________________________________________________________________\n",
      "dense_27 (Dense)             (None, 800)               640800    \n",
      "_________________________________________________________________\n",
      "dense_28 (Dense)             (None, 2)                 1602      \n",
      "=================================================================\n",
      "Total params: 660,802\n",
      "Trainable params: 660,802\n",
      "Non-trainable params: 0\n",
      "_________________________________________________________________\n",
      "None\n"
     ]
    }
   ],
   "source": [
    "print(model.summary())\n"
   ]
  },
  {
   "cell_type": "code",
   "execution_count": 179,
   "metadata": {},
   "outputs": [
    {
     "name": "stderr",
     "output_type": "stream",
     "text": [
      "/home/natalya/anaconda3/lib/python3.6/site-packages/ipykernel_launcher.py:1: UserWarning: The `nb_epoch` argument in `fit` has been renamed `epochs`.\n",
      "  \"\"\"Entry point for launching an IPython kernel.\n"
     ]
    },
    {
     "name": "stdout",
     "output_type": "stream",
     "text": [
      "Epoch 1/100\n",
      "5686/5686 [==============================] - 1s 172us/step - loss: 0.4995 - acc: 0.7884\n",
      "Epoch 2/100\n",
      "5686/5686 [==============================] - 1s 133us/step - loss: 0.3524 - acc: 0.8765\n",
      "Epoch 3/100\n",
      "5686/5686 [==============================] - 1s 127us/step - loss: 0.2901 - acc: 0.8991\n",
      "Epoch 4/100\n",
      "5686/5686 [==============================] - 1s 121us/step - loss: 0.2507 - acc: 0.9147\n",
      "Epoch 5/100\n",
      "5686/5686 [==============================] - 1s 127us/step - loss: 0.2221 - acc: 0.9279\n",
      "Epoch 6/100\n",
      "5686/5686 [==============================] - 1s 123us/step - loss: 0.1995 - acc: 0.9346\n",
      "Epoch 7/100\n",
      "5686/5686 [==============================] - 1s 129us/step - loss: 0.1814 - acc: 0.9416\n",
      "Epoch 8/100\n",
      "5686/5686 [==============================] - 1s 125us/step - loss: 0.1661 - acc: 0.9471\n",
      "Epoch 9/100\n",
      "5686/5686 [==============================] - 1s 132us/step - loss: 0.1530 - acc: 0.9516\n",
      "Epoch 10/100\n",
      "5686/5686 [==============================] - 1s 127us/step - loss: 0.1418 - acc: 0.9553\n",
      "Epoch 11/100\n",
      "5686/5686 [==============================] - 1s 133us/step - loss: 0.1319 - acc: 0.9581\n",
      "Epoch 12/100\n",
      "5686/5686 [==============================] - 1s 132us/step - loss: 0.1234 - acc: 0.9594\n",
      "Epoch 13/100\n",
      "5686/5686 [==============================] - 1s 131us/step - loss: 0.1154 - acc: 0.9631\n",
      "Epoch 14/100\n",
      "5686/5686 [==============================] - 1s 134us/step - loss: 0.1092 - acc: 0.9645\n",
      "Epoch 15/100\n",
      "5686/5686 [==============================] - 1s 132us/step - loss: 0.1025 - acc: 0.9678\n",
      "Epoch 16/100\n",
      "5686/5686 [==============================] - 1s 133us/step - loss: 0.0971 - acc: 0.9705\n",
      "Epoch 17/100\n",
      "5686/5686 [==============================] - 1s 159us/step - loss: 0.0920 - acc: 0.9720\n",
      "Epoch 18/100\n",
      "5686/5686 [==============================] - 1s 139us/step - loss: 0.0874 - acc: 0.9734\n",
      "Epoch 19/100\n",
      "5686/5686 [==============================] - 1s 135us/step - loss: 0.0831 - acc: 0.9745\n",
      "Epoch 20/100\n",
      "5686/5686 [==============================] - 1s 131us/step - loss: 0.0793 - acc: 0.9759\n",
      "Epoch 21/100\n",
      "5686/5686 [==============================] - 1s 131us/step - loss: 0.0758 - acc: 0.9771\n",
      "Epoch 22/100\n",
      "5686/5686 [==============================] - 1s 132us/step - loss: 0.0724 - acc: 0.9787\n",
      "Epoch 23/100\n",
      "5686/5686 [==============================] - 1s 135us/step - loss: 0.0692 - acc: 0.9791\n",
      "Epoch 24/100\n",
      "5686/5686 [==============================] - 1s 162us/step - loss: 0.0662 - acc: 0.9807\n",
      "Epoch 25/100\n",
      "5686/5686 [==============================] - 1s 131us/step - loss: 0.0637 - acc: 0.9817\n",
      "Epoch 26/100\n",
      "5686/5686 [==============================] - 1s 132us/step - loss: 0.0611 - acc: 0.9824\n",
      "Epoch 27/100\n",
      "5686/5686 [==============================] - 1s 134us/step - loss: 0.0591 - acc: 0.9833\n",
      "Epoch 28/100\n",
      "5686/5686 [==============================] - 1s 133us/step - loss: 0.0566 - acc: 0.9838\n",
      "Epoch 29/100\n",
      "5686/5686 [==============================] - 1s 136us/step - loss: 0.0547 - acc: 0.9851\n",
      "Epoch 30/100\n",
      "5686/5686 [==============================] - 1s 134us/step - loss: 0.0528 - acc: 0.9852\n",
      "Epoch 31/100\n",
      "5686/5686 [==============================] - 1s 136us/step - loss: 0.0509 - acc: 0.9873\n",
      "Epoch 32/100\n",
      "5686/5686 [==============================] - 1s 137us/step - loss: 0.0491 - acc: 0.9875\n",
      "Epoch 33/100\n",
      "5686/5686 [==============================] - 1s 137us/step - loss: 0.0475 - acc: 0.9882\n",
      "Epoch 34/100\n",
      "5686/5686 [==============================] - 1s 149us/step - loss: 0.0459 - acc: 0.9896\n",
      "Epoch 35/100\n",
      "5686/5686 [==============================] - 1s 130us/step - loss: 0.0444 - acc: 0.9900\n",
      "Epoch 36/100\n",
      "5686/5686 [==============================] - 1s 136us/step - loss: 0.0430 - acc: 0.9907\n",
      "Epoch 37/100\n",
      "5686/5686 [==============================] - 1s 136us/step - loss: 0.0418 - acc: 0.9912\n",
      "Epoch 38/100\n",
      "5686/5686 [==============================] - 1s 131us/step - loss: 0.0405 - acc: 0.9914\n",
      "Epoch 39/100\n",
      "5686/5686 [==============================] - 1s 147us/step - loss: 0.0393 - acc: 0.9917\n",
      "Epoch 40/100\n",
      "5686/5686 [==============================] - 1s 150us/step - loss: 0.0382 - acc: 0.9916\n",
      "Epoch 41/100\n",
      "5686/5686 [==============================] - 1s 141us/step - loss: 0.0370 - acc: 0.9924\n",
      "Epoch 42/100\n",
      "5686/5686 [==============================] - 1s 136us/step - loss: 0.0360 - acc: 0.9923\n",
      "Epoch 43/100\n",
      "5686/5686 [==============================] - 1s 145us/step - loss: 0.0350 - acc: 0.9930\n",
      "Epoch 44/100\n",
      "5686/5686 [==============================] - 1s 134us/step - loss: 0.0341 - acc: 0.9931\n",
      "Epoch 45/100\n",
      "5686/5686 [==============================] - 1s 135us/step - loss: 0.0331 - acc: 0.9931\n",
      "Epoch 46/100\n",
      "5686/5686 [==============================] - 1s 132us/step - loss: 0.0322 - acc: 0.9944\n",
      "Epoch 47/100\n",
      "5686/5686 [==============================] - 1s 133us/step - loss: 0.0314 - acc: 0.9942\n",
      "Epoch 48/100\n",
      "5686/5686 [==============================] - 1s 136us/step - loss: 0.0306 - acc: 0.9947\n",
      "Epoch 49/100\n",
      "5686/5686 [==============================] - 1s 139us/step - loss: 0.0298 - acc: 0.9954\n",
      "Epoch 50/100\n",
      "5686/5686 [==============================] - 1s 147us/step - loss: 0.0291 - acc: 0.9960\n",
      "Epoch 51/100\n",
      "5686/5686 [==============================] - 1s 134us/step - loss: 0.0284 - acc: 0.9958\n",
      "Epoch 52/100\n",
      "5686/5686 [==============================] - 1s 148us/step - loss: 0.0277 - acc: 0.9960\n",
      "Epoch 53/100\n",
      "5686/5686 [==============================] - 1s 148us/step - loss: 0.0271 - acc: 0.9961\n",
      "Epoch 54/100\n",
      "5686/5686 [==============================] - 1s 152us/step - loss: 0.0264 - acc: 0.9963\n",
      "Epoch 55/100\n",
      "5686/5686 [==============================] - 1s 152us/step - loss: 0.0258 - acc: 0.9965\n",
      "Epoch 56/100\n",
      "5686/5686 [==============================] - 1s 156us/step - loss: 0.0252 - acc: 0.9965\n",
      "Epoch 57/100\n",
      "5686/5686 [==============================] - 1s 156us/step - loss: 0.0247 - acc: 0.9967\n",
      "Epoch 58/100\n",
      "5686/5686 [==============================] - 1s 157us/step - loss: 0.0241 - acc: 0.9965\n",
      "Epoch 59/100\n",
      "5686/5686 [==============================] - 1s 146us/step - loss: 0.0236 - acc: 0.9968\n",
      "Epoch 60/100\n",
      "5686/5686 [==============================] - 1s 155us/step - loss: 0.0231 - acc: 0.9968\n",
      "Epoch 61/100\n",
      "5686/5686 [==============================] - 1s 139us/step - loss: 0.0227 - acc: 0.9972\n",
      "Epoch 62/100\n",
      "5686/5686 [==============================] - 1s 154us/step - loss: 0.0221 - acc: 0.9972\n",
      "Epoch 63/100\n",
      "5686/5686 [==============================] - 1s 146us/step - loss: 0.0217 - acc: 0.9972\n",
      "Epoch 64/100\n",
      "5686/5686 [==============================] - 1s 160us/step - loss: 0.0213 - acc: 0.9974\n",
      "Epoch 65/100\n",
      "5686/5686 [==============================] - 1s 148us/step - loss: 0.0208 - acc: 0.9977\n",
      "Epoch 66/100\n",
      "5686/5686 [==============================] - 1s 151us/step - loss: 0.0204 - acc: 0.9975\n",
      "Epoch 67/100\n",
      "5686/5686 [==============================] - 1s 136us/step - loss: 0.0200 - acc: 0.9979\n",
      "Epoch 68/100\n",
      "5686/5686 [==============================] - 1s 148us/step - loss: 0.0196 - acc: 0.9977\n",
      "Epoch 69/100\n",
      "5686/5686 [==============================] - 1s 150us/step - loss: 0.0192 - acc: 0.9981\n",
      "Epoch 70/100\n",
      "5686/5686 [==============================] - 1s 150us/step - loss: 0.0189 - acc: 0.9981\n",
      "Epoch 71/100\n",
      "5686/5686 [==============================] - 1s 152us/step - loss: 0.0185 - acc: 0.9981\n",
      "Epoch 72/100\n",
      "5686/5686 [==============================] - 1s 155us/step - loss: 0.0182 - acc: 0.9981\n",
      "Epoch 73/100\n",
      "5686/5686 [==============================] - 1s 159us/step - loss: 0.0178 - acc: 0.9982\n",
      "Epoch 74/100\n",
      "5686/5686 [==============================] - 1s 151us/step - loss: 0.0175 - acc: 0.9981\n",
      "Epoch 75/100\n",
      "5686/5686 [==============================] - 1s 146us/step - loss: 0.0172 - acc: 0.9984\n",
      "Epoch 76/100\n",
      "5686/5686 [==============================] - 1s 158us/step - loss: 0.0169 - acc: 0.9984\n",
      "Epoch 77/100\n",
      "5686/5686 [==============================] - 1s 142us/step - loss: 0.0166 - acc: 0.9984\n",
      "Epoch 78/100\n",
      "5686/5686 [==============================] - 1s 154us/step - loss: 0.0163 - acc: 0.9984\n",
      "Epoch 79/100\n",
      "5686/5686 [==============================] - 1s 145us/step - loss: 0.0161 - acc: 0.9984\n",
      "Epoch 80/100\n",
      "5686/5686 [==============================] - 1s 141us/step - loss: 0.0158 - acc: 0.9986\n",
      "Epoch 81/100\n",
      "5686/5686 [==============================] - 1s 142us/step - loss: 0.0155 - acc: 0.9988\n",
      "Epoch 82/100\n"
     ]
    },
    {
     "name": "stdout",
     "output_type": "stream",
     "text": [
      "5686/5686 [==============================] - 1s 128us/step - loss: 0.0153 - acc: 0.9988\n",
      "Epoch 83/100\n",
      "5686/5686 [==============================] - 1s 119us/step - loss: 0.0150 - acc: 0.9989\n",
      "Epoch 84/100\n",
      "5686/5686 [==============================] - 1s 119us/step - loss: 0.0148 - acc: 0.9989\n",
      "Epoch 85/100\n",
      "5686/5686 [==============================] - 1s 122us/step - loss: 0.0146 - acc: 0.9989\n",
      "Epoch 86/100\n",
      "5686/5686 [==============================] - 1s 121us/step - loss: 0.0143 - acc: 0.9991\n",
      "Epoch 87/100\n",
      "5686/5686 [==============================] - 1s 121us/step - loss: 0.0141 - acc: 0.9993\n",
      "Epoch 88/100\n",
      "5686/5686 [==============================] - 1s 123us/step - loss: 0.0139 - acc: 0.9991\n",
      "Epoch 89/100\n",
      "5686/5686 [==============================] - 1s 120us/step - loss: 0.0137 - acc: 0.9991\n",
      "Epoch 90/100\n",
      "5686/5686 [==============================] - 1s 123us/step - loss: 0.0135 - acc: 0.9991\n",
      "Epoch 91/100\n",
      "5686/5686 [==============================] - 1s 121us/step - loss: 0.0133 - acc: 0.9991\n",
      "Epoch 92/100\n",
      "5686/5686 [==============================] - 1s 119us/step - loss: 0.0131 - acc: 0.9991\n",
      "Epoch 93/100\n",
      "5686/5686 [==============================] - 1s 123us/step - loss: 0.0129 - acc: 0.9993\n",
      "Epoch 94/100\n",
      "5686/5686 [==============================] - 1s 123us/step - loss: 0.0127 - acc: 0.9995\n",
      "Epoch 95/100\n",
      "5686/5686 [==============================] - 1s 125us/step - loss: 0.0125 - acc: 0.9995\n",
      "Epoch 96/100\n",
      "5686/5686 [==============================] - 1s 121us/step - loss: 0.0124 - acc: 0.9995\n",
      "Epoch 97/100\n",
      "5686/5686 [==============================] - 1s 125us/step - loss: 0.0122 - acc: 0.9995\n",
      "Epoch 98/100\n",
      "5686/5686 [==============================] - 1s 126us/step - loss: 0.0120 - acc: 0.9996\n",
      "Epoch 99/100\n",
      "5686/5686 [==============================] - 1s 147us/step - loss: 0.0119 - acc: 0.9996\n",
      "Epoch 100/100\n",
      "5686/5686 [==============================] - 1s 152us/step - loss: 0.0117 - acc: 0.9996\n"
     ]
    },
    {
     "data": {
      "text/plain": [
       "<keras.callbacks.History at 0x7fdbb07bfac8>"
      ]
     },
     "execution_count": 179,
     "metadata": {},
     "output_type": "execute_result"
    }
   ],
   "source": [
    "model.fit(X_train, y_train, batch_size=200, nb_epoch=100, verbose=1)\n"
   ]
  },
  {
   "cell_type": "code",
   "execution_count": 181,
   "metadata": {},
   "outputs": [],
   "source": [
    "predictions = model.predict(X_test)"
   ]
  },
  {
   "cell_type": "code",
   "execution_count": 182,
   "metadata": {},
   "outputs": [
    {
     "data": {
      "text/plain": [
       "array([[1.9635295e-03, 9.9803644e-01],\n",
       "       [9.9996388e-01, 3.6157897e-05],\n",
       "       [4.9020699e-04, 9.9950981e-01],\n",
       "       ...,\n",
       "       [9.9975485e-01, 2.4517841e-04],\n",
       "       [4.4817678e-03, 9.9551827e-01],\n",
       "       [9.9998236e-01, 1.7700766e-05]], dtype=float32)"
      ]
     },
     "execution_count": 182,
     "metadata": {},
     "output_type": "execute_result"
    }
   ],
   "source": [
    "predictions\n"
   ]
  },
  {
   "cell_type": "code",
   "execution_count": 183,
   "metadata": {},
   "outputs": [],
   "source": [
    "res = predictions.argmax(axis=1)"
   ]
  },
  {
   "cell_type": "code",
   "execution_count": 184,
   "metadata": {},
   "outputs": [
    {
     "data": {
      "text/plain": [
       "array([1, 0, 1, ..., 0, 1, 0])"
      ]
     },
     "execution_count": 184,
     "metadata": {},
     "output_type": "execute_result"
    }
   ],
   "source": [
    "res"
   ]
  },
  {
   "cell_type": "code",
   "execution_count": 185,
   "metadata": {},
   "outputs": [],
   "source": [
    "Score = 0\n",
    "for i in range(len(res)):\n",
    "    Score += (res[i] == y_test[i])"
   ]
  },
  {
   "cell_type": "code",
   "execution_count": 186,
   "metadata": {},
   "outputs": [
    {
     "data": {
      "text/plain": [
       "2438"
      ]
     },
     "execution_count": 186,
     "metadata": {},
     "output_type": "execute_result"
    }
   ],
   "source": [
    "len(res)"
   ]
  },
  {
   "cell_type": "code",
   "execution_count": 187,
   "metadata": {},
   "outputs": [
    {
     "data": {
      "text/plain": [
       "2438"
      ]
     },
     "execution_count": 187,
     "metadata": {},
     "output_type": "execute_result"
    }
   ],
   "source": [
    "len(y_test)"
   ]
  },
  {
   "cell_type": "code",
   "execution_count": 188,
   "metadata": {},
   "outputs": [
    {
     "data": {
      "text/plain": [
       "0.9995898277276456"
      ]
     },
     "execution_count": 188,
     "metadata": {},
     "output_type": "execute_result"
    }
   ],
   "source": [
    "Score / len(res)"
   ]
  },
  {
   "cell_type": "code",
   "execution_count": null,
   "metadata": {},
   "outputs": [],
   "source": []
  },
  {
   "cell_type": "code",
   "execution_count": null,
   "metadata": {},
   "outputs": [],
   "source": []
  }
 ],
 "metadata": {
  "kernelspec": {
   "display_name": "Python 3",
   "language": "python",
   "name": "python3"
  },
  "language_info": {
   "codemirror_mode": {
    "name": "ipython",
    "version": 3
   },
   "file_extension": ".py",
   "mimetype": "text/x-python",
   "name": "python",
   "nbconvert_exporter": "python",
   "pygments_lexer": "ipython3",
   "version": "3.6.8"
  }
 },
 "nbformat": 4,
 "nbformat_minor": 2
}
